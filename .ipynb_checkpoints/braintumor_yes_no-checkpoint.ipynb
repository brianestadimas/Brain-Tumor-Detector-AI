{
 "cells": [
  {
   "cell_type": "code",
   "execution_count": 1,
   "metadata": {},
   "outputs": [
    {
     "name": "stderr",
     "output_type": "stream",
     "text": [
      "Using TensorFlow backend.\n"
     ]
    }
   ],
   "source": [
    "import os #to read and write a file\n",
    "import cv2 #opencv for manipulating images\n",
    "from glob import glob #finds all the pathnames matching a specified pattern\n",
    "import h5py #will be helpful for storing huge amt of numerical data\n",
    "import shutil #offers a high-level operations on files and collection of files\n",
    "import imgaug as aug #Image augmentation. Helful for creating much more larger dataset from our input.\n",
    "import numpy as np # linear algebra\n",
    "import pandas as pd # data processing, CSV file I/O (e.g. pd.read_csv)\n",
    "import seaborn as sns #visualising tool\n",
    "import matplotlib.pyplot as plt #visualising tool\n",
    "import imgaug.augmenters as iaa #Image augmentation.\n",
    "\n",
    "from os import listdir, makedirs, getcwd, remove \n",
    "#listdr- return list containing names of the entries given in path\n",
    "#make directory named path with the specified numeric mode.\n",
    "#getcwd - getting current working directory\n",
    "#remove- remove/delete a file path\n",
    "\n",
    "from os.path import isfile, join, abspath, exists, isdir\n",
    "#isfile - to check specified path is available in that file or not.\n",
    "#join - to join one or more path.\n",
    "#abspath - returns a normalised version of the path\n",
    "#isdir- returns true/false if specified path is there in the directory or not.\n",
    "\n",
    "from pathlib import Path #object oriented file system path.\n",
    "from skimage.io import imread #image reading/writing\n",
    "from skimage.transform import resize #resize\n",
    "from keras.models import Sequential, Model, load_model #keras NN model\n",
    "from keras.applications.vgg16 import VGG16, preprocess_input #VGG16\n",
    "from keras.layers import Conv2D, MaxPooling2D, Dense, Dropout, Input, Flatten #layers to build NN\n",
    "from keras.optimizers import Adam, SGD, RMSprop #optimizers\n",
    "from keras.callbacks import ModelCheckpoint, Callback, EarlyStopping\n",
    "from keras.utils import to_categorical\n",
    "from sklearn.model_selection import train_test_split \n",
    "\n",
    "import tensorflow as tf"
   ]
  },
  {
   "cell_type": "code",
   "execution_count": 2,
   "metadata": {},
   "outputs": [
    {
     "name": "stdout",
     "output_type": "stream",
     "text": [
      "Scans found: 255\n"
     ]
    }
   ],
   "source": [
    "columns1 = ['path', 'label']\n",
    "yes_xray_df = pd.DataFrame(columns = columns1)\n",
    "all_imgs_path_yes = {os.path.basename(x): x for x in glob(os.path.join('brain_tumor_dataset' ,'yes', '*.jpg'))}\n",
    "print('Scans found:', len(all_imgs_path_yes))"
   ]
  },
  {
   "cell_type": "code",
   "execution_count": 3,
   "metadata": {},
   "outputs": [],
   "source": [
    "#labeling 1, they have tumor\n",
    "yes_xray_df['path'] = all_imgs_path_yes.values()\n",
    "yes_list = [1]*255\n",
    "yes_xray_df['label'] = yes_list "
   ]
  },
  {
   "cell_type": "code",
   "execution_count": 4,
   "metadata": {},
   "outputs": [
    {
     "name": "stdout",
     "output_type": "stream",
     "text": [
      "Scans found: 255\n"
     ]
    }
   ],
   "source": [
    "#labeling 0, they dont have tumor\n",
    "columns = ['path', 'label']\n",
    "no_xray_df = pd.DataFrame(columns = columns)\n",
    "no_imgs_path = {os.path.basename(x): x for x in glob(os.path.join('brain_tumor_dataset' ,'no', '*.jpg'))}\n",
    "\n",
    "print('Scans found:', len(no_imgs_path))\n",
    "\n",
    "no_xray_df['path'] = no_imgs_path.values()\n",
    "\n",
    "no_list = [0]*255 #Labeling 0 for all 255 records\n",
    "no_xray_df['label'] = no_list"
   ]
  },
  {
   "cell_type": "code",
   "execution_count": 5,
   "metadata": {},
   "outputs": [
    {
     "data": {
      "text/html": [
       "<div>\n",
       "<style scoped>\n",
       "    .dataframe tbody tr th:only-of-type {\n",
       "        vertical-align: middle;\n",
       "    }\n",
       "\n",
       "    .dataframe tbody tr th {\n",
       "        vertical-align: top;\n",
       "    }\n",
       "\n",
       "    .dataframe thead th {\n",
       "        text-align: right;\n",
       "    }\n",
       "</style>\n",
       "<table border=\"1\" class=\"dataframe\">\n",
       "  <thead>\n",
       "    <tr style=\"text-align: right;\">\n",
       "      <th></th>\n",
       "      <th>path</th>\n",
       "      <th>label</th>\n",
       "    </tr>\n",
       "  </thead>\n",
       "  <tbody>\n",
       "    <tr>\n",
       "      <th>0</th>\n",
       "      <td>brain_tumor_dataset\\yes\\yes1.jpg</td>\n",
       "      <td>1</td>\n",
       "    </tr>\n",
       "    <tr>\n",
       "      <th>1</th>\n",
       "      <td>brain_tumor_dataset\\yes\\yes10.jpg</td>\n",
       "      <td>1</td>\n",
       "    </tr>\n",
       "    <tr>\n",
       "      <th>2</th>\n",
       "      <td>brain_tumor_dataset\\yes\\yes100.jpg</td>\n",
       "      <td>1</td>\n",
       "    </tr>\n",
       "    <tr>\n",
       "      <th>3</th>\n",
       "      <td>brain_tumor_dataset\\yes\\yes101.jpg</td>\n",
       "      <td>1</td>\n",
       "    </tr>\n",
       "    <tr>\n",
       "      <th>4</th>\n",
       "      <td>brain_tumor_dataset\\yes\\yes102.jpg</td>\n",
       "      <td>1</td>\n",
       "    </tr>\n",
       "  </tbody>\n",
       "</table>\n",
       "</div>"
      ],
      "text/plain": [
       "                                 path  label\n",
       "0    brain_tumor_dataset\\yes\\yes1.jpg      1\n",
       "1   brain_tumor_dataset\\yes\\yes10.jpg      1\n",
       "2  brain_tumor_dataset\\yes\\yes100.jpg      1\n",
       "3  brain_tumor_dataset\\yes\\yes101.jpg      1\n",
       "4  brain_tumor_dataset\\yes\\yes102.jpg      1"
      ]
     },
     "execution_count": 5,
     "metadata": {},
     "output_type": "execute_result"
    }
   ],
   "source": [
    "yes_xray_df.head()"
   ]
  },
  {
   "cell_type": "code",
   "execution_count": 6,
   "metadata": {},
   "outputs": [
    {
     "name": "stdout",
     "output_type": "stream",
     "text": [
      "Scans found: 60\n"
     ]
    },
    {
     "data": {
      "text/html": [
       "<div>\n",
       "<style scoped>\n",
       "    .dataframe tbody tr th:only-of-type {\n",
       "        vertical-align: middle;\n",
       "    }\n",
       "\n",
       "    .dataframe tbody tr th {\n",
       "        vertical-align: top;\n",
       "    }\n",
       "\n",
       "    .dataframe thead th {\n",
       "        text-align: right;\n",
       "    }\n",
       "</style>\n",
       "<table border=\"1\" class=\"dataframe\">\n",
       "  <thead>\n",
       "    <tr style=\"text-align: right;\">\n",
       "      <th></th>\n",
       "      <th>path</th>\n",
       "      <th>label</th>\n",
       "    </tr>\n",
       "  </thead>\n",
       "  <tbody>\n",
       "    <tr>\n",
       "      <th>0</th>\n",
       "      <td>brain_tumor_dataset\\pred\\pred1.jpg</td>\n",
       "      <td>NaN</td>\n",
       "    </tr>\n",
       "    <tr>\n",
       "      <th>1</th>\n",
       "      <td>brain_tumor_dataset\\pred\\pred10.jpg</td>\n",
       "      <td>NaN</td>\n",
       "    </tr>\n",
       "    <tr>\n",
       "      <th>2</th>\n",
       "      <td>brain_tumor_dataset\\pred\\pred11.jpg</td>\n",
       "      <td>NaN</td>\n",
       "    </tr>\n",
       "    <tr>\n",
       "      <th>3</th>\n",
       "      <td>brain_tumor_dataset\\pred\\pred12.jpg</td>\n",
       "      <td>NaN</td>\n",
       "    </tr>\n",
       "    <tr>\n",
       "      <th>4</th>\n",
       "      <td>brain_tumor_dataset\\pred\\pred13.jpg</td>\n",
       "      <td>NaN</td>\n",
       "    </tr>\n",
       "  </tbody>\n",
       "</table>\n",
       "</div>"
      ],
      "text/plain": [
       "                                  path label\n",
       "0   brain_tumor_dataset\\pred\\pred1.jpg   NaN\n",
       "1  brain_tumor_dataset\\pred\\pred10.jpg   NaN\n",
       "2  brain_tumor_dataset\\pred\\pred11.jpg   NaN\n",
       "3  brain_tumor_dataset\\pred\\pred12.jpg   NaN\n",
       "4  brain_tumor_dataset\\pred\\pred13.jpg   NaN"
      ]
     },
     "execution_count": 6,
     "metadata": {},
     "output_type": "execute_result"
    }
   ],
   "source": [
    "#pred data\n",
    "\n",
    "columns2 = ['path', 'label']\n",
    "pred_xray_df = pd.DataFrame(columns = columns)\n",
    "all_imgs_path_pred = {os.path.basename(x): x for x in glob(os.path.join('brain_tumor_dataset' ,'pred','*.jpg'))}\n",
    "\n",
    "print('Scans found:', len(all_imgs_path_pred))\n",
    "\n",
    "pred_xray_df['path'] = all_imgs_path_pred.values()\n",
    "pred_xray_df.head() # there are no Labels for this dataset."
   ]
  },
  {
   "cell_type": "code",
   "execution_count": 7,
   "metadata": {},
   "outputs": [],
   "source": [
    "frames = [yes_xray_df, no_xray_df]"
   ]
  },
  {
   "cell_type": "code",
   "execution_count": 8,
   "metadata": {},
   "outputs": [
    {
     "name": "stdout",
     "output_type": "stream",
     "text": [
      "Shuffling the dataset\n"
     ]
    },
    {
     "data": {
      "text/html": [
       "<div>\n",
       "<style scoped>\n",
       "    .dataframe tbody tr th:only-of-type {\n",
       "        vertical-align: middle;\n",
       "    }\n",
       "\n",
       "    .dataframe tbody tr th {\n",
       "        vertical-align: top;\n",
       "    }\n",
       "\n",
       "    .dataframe thead th {\n",
       "        text-align: right;\n",
       "    }\n",
       "</style>\n",
       "<table border=\"1\" class=\"dataframe\">\n",
       "  <thead>\n",
       "    <tr style=\"text-align: right;\">\n",
       "      <th></th>\n",
       "      <th>path</th>\n",
       "      <th>label</th>\n",
       "    </tr>\n",
       "  </thead>\n",
       "  <tbody>\n",
       "    <tr>\n",
       "      <th>0</th>\n",
       "      <td>brain_tumor_dataset\\yes\\yes208.jpg</td>\n",
       "      <td>1</td>\n",
       "    </tr>\n",
       "    <tr>\n",
       "      <th>1</th>\n",
       "      <td>brain_tumor_dataset\\no\\no62.jpg</td>\n",
       "      <td>0</td>\n",
       "    </tr>\n",
       "    <tr>\n",
       "      <th>2</th>\n",
       "      <td>brain_tumor_dataset\\no\\no126.jpg</td>\n",
       "      <td>0</td>\n",
       "    </tr>\n",
       "    <tr>\n",
       "      <th>3</th>\n",
       "      <td>brain_tumor_dataset\\yes\\yes244.jpg</td>\n",
       "      <td>1</td>\n",
       "    </tr>\n",
       "    <tr>\n",
       "      <th>4</th>\n",
       "      <td>brain_tumor_dataset\\no\\no236.jpg</td>\n",
       "      <td>0</td>\n",
       "    </tr>\n",
       "  </tbody>\n",
       "</table>\n",
       "</div>"
      ],
      "text/plain": [
       "                                 path  label\n",
       "0  brain_tumor_dataset\\yes\\yes208.jpg      1\n",
       "1     brain_tumor_dataset\\no\\no62.jpg      0\n",
       "2    brain_tumor_dataset\\no\\no126.jpg      0\n",
       "3  brain_tumor_dataset\\yes\\yes244.jpg      1\n",
       "4    brain_tumor_dataset\\no\\no236.jpg      0"
      ]
     },
     "execution_count": 8,
     "metadata": {},
     "output_type": "execute_result"
    }
   ],
   "source": [
    "final_df = pd.concat(frames)\n",
    "final_df = final_df.sample(frac=1.).reset_index(drop = True) #shuffling the rows\n",
    "print(\"Shuffling the dataset\")\n",
    "final_df.head(5)"
   ]
  },
  {
   "cell_type": "code",
   "execution_count": 9,
   "metadata": {},
   "outputs": [
    {
     "name": "stdout",
     "output_type": "stream",
     "text": [
      "train 382 validation 128\n"
     ]
    }
   ],
   "source": [
    "#train_test split\n",
    "from sklearn.model_selection import train_test_split\n",
    "train_df, valid_df = train_test_split(final_df, test_size = 0.25, random_state = 2020)\n",
    "print('train', train_df.shape[0], 'validation', valid_df.shape[0])"
   ]
  },
  {
   "cell_type": "code",
   "execution_count": 10,
   "metadata": {},
   "outputs": [
    {
     "data": {
      "text/html": [
       "<div>\n",
       "<style scoped>\n",
       "    .dataframe tbody tr th:only-of-type {\n",
       "        vertical-align: middle;\n",
       "    }\n",
       "\n",
       "    .dataframe tbody tr th {\n",
       "        vertical-align: top;\n",
       "    }\n",
       "\n",
       "    .dataframe thead th {\n",
       "        text-align: right;\n",
       "    }\n",
       "</style>\n",
       "<table border=\"1\" class=\"dataframe\">\n",
       "  <thead>\n",
       "    <tr style=\"text-align: right;\">\n",
       "      <th></th>\n",
       "      <th>path</th>\n",
       "      <th>label</th>\n",
       "    </tr>\n",
       "  </thead>\n",
       "  <tbody>\n",
       "    <tr>\n",
       "      <th>434</th>\n",
       "      <td>brain_tumor_dataset\\no\\no232.jpg</td>\n",
       "      <td>0</td>\n",
       "    </tr>\n",
       "    <tr>\n",
       "      <th>415</th>\n",
       "      <td>brain_tumor_dataset\\yes\\yes139.jpg</td>\n",
       "      <td>1</td>\n",
       "    </tr>\n",
       "    <tr>\n",
       "      <th>341</th>\n",
       "      <td>brain_tumor_dataset\\no\\No13.jpg</td>\n",
       "      <td>0</td>\n",
       "    </tr>\n",
       "    <tr>\n",
       "      <th>103</th>\n",
       "      <td>brain_tumor_dataset\\no\\no127.jpg</td>\n",
       "      <td>0</td>\n",
       "    </tr>\n",
       "    <tr>\n",
       "      <th>357</th>\n",
       "      <td>brain_tumor_dataset\\yes\\yes21.jpg</td>\n",
       "      <td>1</td>\n",
       "    </tr>\n",
       "    <tr>\n",
       "      <th>...</th>\n",
       "      <td>...</td>\n",
       "      <td>...</td>\n",
       "    </tr>\n",
       "    <tr>\n",
       "      <th>195</th>\n",
       "      <td>brain_tumor_dataset\\yes\\yes146.jpg</td>\n",
       "      <td>1</td>\n",
       "    </tr>\n",
       "    <tr>\n",
       "      <th>118</th>\n",
       "      <td>brain_tumor_dataset\\no\\no248.jpg</td>\n",
       "      <td>0</td>\n",
       "    </tr>\n",
       "    <tr>\n",
       "      <th>323</th>\n",
       "      <td>brain_tumor_dataset\\no\\no158.jpg</td>\n",
       "      <td>0</td>\n",
       "    </tr>\n",
       "    <tr>\n",
       "      <th>392</th>\n",
       "      <td>brain_tumor_dataset\\yes\\yes150.jpg</td>\n",
       "      <td>1</td>\n",
       "    </tr>\n",
       "    <tr>\n",
       "      <th>352</th>\n",
       "      <td>brain_tumor_dataset\\no\\no94.jpg</td>\n",
       "      <td>0</td>\n",
       "    </tr>\n",
       "  </tbody>\n",
       "</table>\n",
       "<p>382 rows × 2 columns</p>\n",
       "</div>"
      ],
      "text/plain": [
       "                                   path  label\n",
       "434    brain_tumor_dataset\\no\\no232.jpg      0\n",
       "415  brain_tumor_dataset\\yes\\yes139.jpg      1\n",
       "341     brain_tumor_dataset\\no\\No13.jpg      0\n",
       "103    brain_tumor_dataset\\no\\no127.jpg      0\n",
       "357   brain_tumor_dataset\\yes\\yes21.jpg      1\n",
       "..                                  ...    ...\n",
       "195  brain_tumor_dataset\\yes\\yes146.jpg      1\n",
       "118    brain_tumor_dataset\\no\\no248.jpg      0\n",
       "323    brain_tumor_dataset\\no\\no158.jpg      0\n",
       "392  brain_tumor_dataset\\yes\\yes150.jpg      1\n",
       "352     brain_tumor_dataset\\no\\no94.jpg      0\n",
       "\n",
       "[382 rows x 2 columns]"
      ]
     },
     "execution_count": 10,
     "metadata": {},
     "output_type": "execute_result"
    }
   ],
   "source": [
    "train_df"
   ]
  },
  {
   "cell_type": "code",
   "execution_count": 11,
   "metadata": {},
   "outputs": [
    {
     "data": {
      "text/html": [
       "<div>\n",
       "<style scoped>\n",
       "    .dataframe tbody tr th:only-of-type {\n",
       "        vertical-align: middle;\n",
       "    }\n",
       "\n",
       "    .dataframe tbody tr th {\n",
       "        vertical-align: top;\n",
       "    }\n",
       "\n",
       "    .dataframe thead th {\n",
       "        text-align: right;\n",
       "    }\n",
       "</style>\n",
       "<table border=\"1\" class=\"dataframe\">\n",
       "  <thead>\n",
       "    <tr style=\"text-align: right;\">\n",
       "      <th></th>\n",
       "      <th>path</th>\n",
       "      <th>label</th>\n",
       "    </tr>\n",
       "  </thead>\n",
       "  <tbody>\n",
       "    <tr>\n",
       "      <th>297</th>\n",
       "      <td>brain_tumor_dataset\\no\\no65.jpg</td>\n",
       "      <td>0</td>\n",
       "    </tr>\n",
       "    <tr>\n",
       "      <th>326</th>\n",
       "      <td>brain_tumor_dataset\\yes\\yes128.jpg</td>\n",
       "      <td>1</td>\n",
       "    </tr>\n",
       "    <tr>\n",
       "      <th>229</th>\n",
       "      <td>brain_tumor_dataset\\yes\\yes125.jpg</td>\n",
       "      <td>1</td>\n",
       "    </tr>\n",
       "    <tr>\n",
       "      <th>424</th>\n",
       "      <td>brain_tumor_dataset\\yes\\yes171.jpg</td>\n",
       "      <td>1</td>\n",
       "    </tr>\n",
       "    <tr>\n",
       "      <th>476</th>\n",
       "      <td>brain_tumor_dataset\\no\\no49.jpg</td>\n",
       "      <td>0</td>\n",
       "    </tr>\n",
       "    <tr>\n",
       "      <th>...</th>\n",
       "      <td>...</td>\n",
       "      <td>...</td>\n",
       "    </tr>\n",
       "    <tr>\n",
       "      <th>145</th>\n",
       "      <td>brain_tumor_dataset\\yes\\yes168.jpg</td>\n",
       "      <td>1</td>\n",
       "    </tr>\n",
       "    <tr>\n",
       "      <th>155</th>\n",
       "      <td>brain_tumor_dataset\\yes\\yes74.jpg</td>\n",
       "      <td>1</td>\n",
       "    </tr>\n",
       "    <tr>\n",
       "      <th>503</th>\n",
       "      <td>brain_tumor_dataset\\yes\\yes84.jpg</td>\n",
       "      <td>1</td>\n",
       "    </tr>\n",
       "    <tr>\n",
       "      <th>100</th>\n",
       "      <td>brain_tumor_dataset\\no\\no113.jpg</td>\n",
       "      <td>0</td>\n",
       "    </tr>\n",
       "    <tr>\n",
       "      <th>360</th>\n",
       "      <td>brain_tumor_dataset\\yes\\yes10.jpg</td>\n",
       "      <td>1</td>\n",
       "    </tr>\n",
       "  </tbody>\n",
       "</table>\n",
       "<p>128 rows × 2 columns</p>\n",
       "</div>"
      ],
      "text/plain": [
       "                                   path  label\n",
       "297     brain_tumor_dataset\\no\\no65.jpg      0\n",
       "326  brain_tumor_dataset\\yes\\yes128.jpg      1\n",
       "229  brain_tumor_dataset\\yes\\yes125.jpg      1\n",
       "424  brain_tumor_dataset\\yes\\yes171.jpg      1\n",
       "476     brain_tumor_dataset\\no\\no49.jpg      0\n",
       "..                                  ...    ...\n",
       "145  brain_tumor_dataset\\yes\\yes168.jpg      1\n",
       "155   brain_tumor_dataset\\yes\\yes74.jpg      1\n",
       "503   brain_tumor_dataset\\yes\\yes84.jpg      1\n",
       "100    brain_tumor_dataset\\no\\no113.jpg      0\n",
       "360   brain_tumor_dataset\\yes\\yes10.jpg      1\n",
       "\n",
       "[128 rows x 2 columns]"
      ]
     },
     "execution_count": 11,
     "metadata": {},
     "output_type": "execute_result"
    }
   ],
   "source": [
    "valid_df"
   ]
  },
  {
   "cell_type": "code",
   "execution_count": 12,
   "metadata": {},
   "outputs": [],
   "source": [
    "# dimensions to consider for the images\n",
    "img_rows, img_cols, img_channels = 224,224,3\n",
    "\n",
    "# batch size for training  \n",
    "batch_size=8\n",
    "\n",
    "# total number of classes in the dataset\n",
    "nb_classes=2"
   ]
  },
  {
   "cell_type": "code",
   "execution_count": 13,
   "metadata": {},
   "outputs": [],
   "source": [
    "#augmentation\n",
    "seq = iaa.OneOf([\n",
    "    iaa.Fliplr(), \n",
    "    iaa.Affine(rotate=20), \n",
    "    iaa.Multiply((1.2, 1.5))]) \n",
    "\n",
    "#Fliplr- Horizontal Flips\n",
    "#Affine - rotation\n",
    "#Multiply - Random Brightness"
   ]
  },
  {
   "cell_type": "code",
   "execution_count": 14,
   "metadata": {},
   "outputs": [],
   "source": [
    "def data_generator(data, batch_size, is_validation_data=False):\n",
    "    # Get total number of samples in the data\n",
    "    n = len(data)\n",
    "    nb_batches = int(np.ceil(n/batch_size))\n",
    "\n",
    "    # Get a numpy array of all the indices of the input data\n",
    "    indices = np.arange(n)\n",
    "    \n",
    "    # Define two numpy arrays for containing batch data and labels\n",
    "    batch_data = np.zeros((batch_size, img_rows, img_cols, img_channels), dtype=np.float32)\n",
    "    batch_labels = np.zeros((batch_size, nb_classes), dtype=np.float32)\n",
    "    \n",
    "    while True:\n",
    "        if not is_validation_data:\n",
    "            # shuffle indices for the training data\n",
    "            np.random.shuffle(indices)\n",
    "            \n",
    "        for i in range(nb_batches):\n",
    "            # get the next batch \n",
    "            next_batch_indices = indices[i*batch_size:(i+1)*batch_size]\n",
    "            \n",
    "            # process the next batch\n",
    "            for j, idx in enumerate(next_batch_indices):\n",
    "                img = cv2.imread(data.iloc[idx][\"path\"])\n",
    "                img = cv2.cvtColor(img, cv2.COLOR_BGR2RGB)\n",
    "                label = data.iloc[idx][\"label\"]\n",
    "                \n",
    "                if not is_validation_data:\n",
    "                    img = seq.augment_image(img)\n",
    "                \n",
    "                img = cv2.resize(img, (img_rows, img_cols)).astype(np.float32)\n",
    "                batch_data[j] = img\n",
    "                batch_labels[j] = to_categorical(label,num_classes=nb_classes)\n",
    "            \n",
    "            batch_data = preprocess_input(batch_data)\n",
    "            yield batch_data, batch_labels"
   ]
  },
  {
   "cell_type": "code",
   "execution_count": 15,
   "metadata": {},
   "outputs": [],
   "source": [
    "#training data generator \n",
    "train_data_gen = data_generator(train_df, batch_size)\n",
    "\n",
    "# validation data generator \n",
    "valid_data_gen = data_generator(valid_df, batch_size, is_validation_data=True)"
   ]
  },
  {
   "cell_type": "code",
   "execution_count": 16,
   "metadata": {},
   "outputs": [],
   "source": [
    "#Modeling part\n",
    "#Transfer Learning\n",
    "#Choosing VGG16\n",
    "\n",
    "def get_base_model():\n",
    "    base_model = VGG16(input_shape=(img_rows, img_cols, img_channels), weights='imagenet', include_top=True)\n",
    "    return base_model"
   ]
  },
  {
   "cell_type": "code",
   "execution_count": 17,
   "metadata": {},
   "outputs": [],
   "source": [
    "# get the base model\n",
    "base_model = get_base_model()\n",
    "\n",
    "#  get the output of the second last dense layer \n",
    "base_model_output = base_model.layers[-2].output\n",
    "\n",
    "# add new layers \n",
    "x = Dropout(0.5,name='drop2')(base_model_output)\n",
    "output = Dense(2, activation='softmax', name='fc3')(x)"
   ]
  },
  {
   "cell_type": "code",
   "execution_count": 18,
   "metadata": {},
   "outputs": [],
   "source": [
    "# define a new model \n",
    "model = Model(base_model.input, output)\n",
    "\n",
    "# Freeze all the base model layers \n",
    "for layer in base_model.layers[:-1]:\n",
    "    layer.trainable=False"
   ]
  },
  {
   "cell_type": "code",
   "execution_count": 19,
   "metadata": {},
   "outputs": [
    {
     "name": "stdout",
     "output_type": "stream",
     "text": [
      "Model: \"model_1\"\n",
      "_________________________________________________________________\n",
      "Layer (type)                 Output Shape              Param #   \n",
      "=================================================================\n",
      "input_1 (InputLayer)         (None, 224, 224, 3)       0         \n",
      "_________________________________________________________________\n",
      "block1_conv1 (Conv2D)        (None, 224, 224, 64)      1792      \n",
      "_________________________________________________________________\n",
      "block1_conv2 (Conv2D)        (None, 224, 224, 64)      36928     \n",
      "_________________________________________________________________\n",
      "block1_pool (MaxPooling2D)   (None, 112, 112, 64)      0         \n",
      "_________________________________________________________________\n",
      "block2_conv1 (Conv2D)        (None, 112, 112, 128)     73856     \n",
      "_________________________________________________________________\n",
      "block2_conv2 (Conv2D)        (None, 112, 112, 128)     147584    \n",
      "_________________________________________________________________\n",
      "block2_pool (MaxPooling2D)   (None, 56, 56, 128)       0         \n",
      "_________________________________________________________________\n",
      "block3_conv1 (Conv2D)        (None, 56, 56, 256)       295168    \n",
      "_________________________________________________________________\n",
      "block3_conv2 (Conv2D)        (None, 56, 56, 256)       590080    \n",
      "_________________________________________________________________\n",
      "block3_conv3 (Conv2D)        (None, 56, 56, 256)       590080    \n",
      "_________________________________________________________________\n",
      "block3_pool (MaxPooling2D)   (None, 28, 28, 256)       0         \n",
      "_________________________________________________________________\n",
      "block4_conv1 (Conv2D)        (None, 28, 28, 512)       1180160   \n",
      "_________________________________________________________________\n",
      "block4_conv2 (Conv2D)        (None, 28, 28, 512)       2359808   \n",
      "_________________________________________________________________\n",
      "block4_conv3 (Conv2D)        (None, 28, 28, 512)       2359808   \n",
      "_________________________________________________________________\n",
      "block4_pool (MaxPooling2D)   (None, 14, 14, 512)       0         \n",
      "_________________________________________________________________\n",
      "block5_conv1 (Conv2D)        (None, 14, 14, 512)       2359808   \n",
      "_________________________________________________________________\n",
      "block5_conv2 (Conv2D)        (None, 14, 14, 512)       2359808   \n",
      "_________________________________________________________________\n",
      "block5_conv3 (Conv2D)        (None, 14, 14, 512)       2359808   \n",
      "_________________________________________________________________\n",
      "block5_pool (MaxPooling2D)   (None, 7, 7, 512)         0         \n",
      "_________________________________________________________________\n",
      "flatten (Flatten)            (None, 25088)             0         \n",
      "_________________________________________________________________\n",
      "fc1 (Dense)                  (None, 4096)              102764544 \n",
      "_________________________________________________________________\n",
      "fc2 (Dense)                  (None, 4096)              16781312  \n",
      "_________________________________________________________________\n",
      "drop2 (Dropout)              (None, 4096)              0         \n",
      "_________________________________________________________________\n",
      "fc3 (Dense)                  (None, 2)                 8194      \n",
      "=================================================================\n",
      "Total params: 134,268,738\n",
      "Trainable params: 8,194\n",
      "Non-trainable params: 134,260,544\n",
      "_________________________________________________________________\n"
     ]
    }
   ],
   "source": [
    "model.compile(loss='categorical_crossentropy', optimizer=RMSprop(0.001), metrics=['accuracy'])\n",
    "model.summary()"
   ]
  },
  {
   "cell_type": "code",
   "execution_count": 20,
   "metadata": {},
   "outputs": [],
   "source": [
    "# the restore_best_weights parameter load the weights of the best iteration once the training finishes\n",
    "from tensorflow.keras.callbacks import EarlyStopping\n",
    "es = EarlyStopping(patience=10, restore_best_weights=True)\n",
    "\n",
    "# checkpoint to save model\n",
    "chkpt = ModelCheckpoint(filepath=\"model1\", save_best_only=True)\n",
    "\n",
    "# number of training and validation steps for training and validation\n",
    "nb_train_steps = int(np.ceil(len(train_df)/batch_size))\n",
    "nb_valid_steps = int(np.ceil(len(valid_df)/batch_size))\n",
    "\n",
    "# number of epochs \n",
    "nb_epochs=30"
   ]
  },
  {
   "cell_type": "code",
   "execution_count": null,
   "metadata": {},
   "outputs": [],
   "source": []
  },
  {
   "cell_type": "code",
   "execution_count": 21,
   "metadata": {},
   "outputs": [
    {
     "name": "stdout",
     "output_type": "stream",
     "text": [
      "Epoch 1/30\n",
      "48/48 [==============================] - 104s 2s/step - loss: 1.1353 - accuracy: 0.6510 - val_loss: 3.6187 - val_accuracy: 0.7266\n",
      "Epoch 2/30\n",
      "48/48 [==============================] - 103s 2s/step - loss: 0.8704 - accuracy: 0.7318 - val_loss: 2.8834 - val_accuracy: 0.7422\n",
      "Epoch 3/30\n",
      "48/48 [==============================] - 103s 2s/step - loss: 0.8524 - accuracy: 0.7578 - val_loss: 4.2053 - val_accuracy: 0.7578\n",
      "Epoch 4/30\n",
      "48/48 [==============================] - 103s 2s/step - loss: 0.8407 - accuracy: 0.7396 - val_loss: 4.0719 - val_accuracy: 0.7578\n",
      "Epoch 5/30\n",
      "48/48 [==============================] - 103s 2s/step - loss: 0.8104 - accuracy: 0.7526 - val_loss: 4.7983 - val_accuracy: 0.8203\n",
      "Epoch 6/30\n",
      "48/48 [==============================] - 103s 2s/step - loss: 0.8984 - accuracy: 0.7318 - val_loss: 2.7614 - val_accuracy: 0.7734\n",
      "Epoch 7/30\n",
      "48/48 [==============================] - 103s 2s/step - loss: 0.8258 - accuracy: 0.7448 - val_loss: 5.5569 - val_accuracy: 0.6562\n",
      "Epoch 8/30\n",
      "48/48 [==============================] - 103s 2s/step - loss: 0.7801 - accuracy: 0.7240 - val_loss: 4.4155 - val_accuracy: 0.8125\n",
      "Epoch 9/30\n",
      "48/48 [==============================] - 105s 2s/step - loss: 0.7527 - accuracy: 0.7839 - val_loss: 4.5952 - val_accuracy: 0.7578\n",
      "Epoch 10/30\n",
      "48/48 [==============================] - 105s 2s/step - loss: 0.6080 - accuracy: 0.8125 - val_loss: 4.3948 - val_accuracy: 0.7578\n",
      "Epoch 11/30\n",
      "48/48 [==============================] - 105s 2s/step - loss: 0.8145 - accuracy: 0.7630 - val_loss: 3.2728 - val_accuracy: 0.7344\n",
      "Epoch 12/30\n",
      "48/48 [==============================] - 105s 2s/step - loss: 0.8457 - accuracy: 0.7708 - val_loss: 4.8188 - val_accuracy: 0.7031\n",
      "Epoch 13/30\n",
      "48/48 [==============================] - 105s 2s/step - loss: 0.7283 - accuracy: 0.7917 - val_loss: 3.5930 - val_accuracy: 0.7734\n",
      "Epoch 14/30\n",
      "48/48 [==============================] - 105s 2s/step - loss: 0.8611 - accuracy: 0.7604 - val_loss: 5.6103 - val_accuracy: 0.7578\n",
      "Epoch 15/30\n",
      "48/48 [==============================] - 105s 2s/step - loss: 0.8141 - accuracy: 0.7786 - val_loss: 3.6345 - val_accuracy: 0.7578\n",
      "Epoch 16/30\n",
      "48/48 [==============================] - 105s 2s/step - loss: 0.7090 - accuracy: 0.7943 - val_loss: 4.8739 - val_accuracy: 0.7891\n",
      "Epoch 17/30\n",
      "48/48 [==============================] - 105s 2s/step - loss: 0.7225 - accuracy: 0.7812 - val_loss: 3.8477 - val_accuracy: 0.7734\n",
      "Epoch 18/30\n",
      "48/48 [==============================] - 109s 2s/step - loss: 0.6262 - accuracy: 0.8021 - val_loss: 4.4315 - val_accuracy: 0.7891\n",
      "Epoch 19/30\n",
      "48/48 [==============================] - 122s 3s/step - loss: 0.6062 - accuracy: 0.8177 - val_loss: 4.7765 - val_accuracy: 0.8047\n",
      "Epoch 20/30\n",
      "48/48 [==============================] - 119s 2s/step - loss: 0.8416 - accuracy: 0.7708 - val_loss: 4.3942 - val_accuracy: 0.7969\n",
      "Epoch 21/30\n",
      "48/48 [==============================] - 110s 2s/step - loss: 0.6800 - accuracy: 0.8073 - val_loss: 5.5174 - val_accuracy: 0.8125\n",
      "Epoch 22/30\n",
      "48/48 [==============================] - 110s 2s/step - loss: 0.7344 - accuracy: 0.7943 - val_loss: 5.0962 - val_accuracy: 0.8047\n",
      "Epoch 23/30\n",
      "48/48 [==============================] - 109s 2s/step - loss: 0.8347 - accuracy: 0.7891 - val_loss: 5.4413 - val_accuracy: 0.8047\n",
      "Epoch 24/30\n",
      "48/48 [==============================] - 110s 2s/step - loss: 0.6139 - accuracy: 0.8255 - val_loss: 4.2653 - val_accuracy: 0.7969\n",
      "Epoch 25/30\n",
      "48/48 [==============================] - 109s 2s/step - loss: 0.6036 - accuracy: 0.7995 - val_loss: 4.2862 - val_accuracy: 0.8125\n",
      "Epoch 26/30\n",
      "48/48 [==============================] - 110s 2s/step - loss: 0.7687 - accuracy: 0.8073 - val_loss: 5.0896 - val_accuracy: 0.8047\n",
      "Epoch 27/30\n",
      "48/48 [==============================] - 112s 2s/step - loss: 0.8425 - accuracy: 0.7734 - val_loss: 6.0164 - val_accuracy: 0.8047\n",
      "Epoch 28/30\n",
      "48/48 [==============================] - 116s 2s/step - loss: 0.6547 - accuracy: 0.8438 - val_loss: 4.1333 - val_accuracy: 0.7969\n",
      "Epoch 29/30\n",
      "48/48 [==============================] - 114s 2s/step - loss: 0.5911 - accuracy: 0.7943 - val_loss: 5.4644 - val_accuracy: 0.7812\n",
      "Epoch 30/30\n",
      "48/48 [==============================] - 116s 2s/step - loss: 0.5931 - accuracy: 0.8281 - val_loss: 5.0782 - val_accuracy: 0.7578\n"
     ]
    }
   ],
   "source": [
    "history1 = model.fit_generator(train_data_gen, \n",
    "                              epochs=nb_epochs, \n",
    "                              steps_per_epoch=nb_train_steps, \n",
    "                              validation_data=valid_data_gen, \n",
    "                              validation_steps=nb_valid_steps)"
   ]
  },
  {
   "cell_type": "code",
   "execution_count": 22,
   "metadata": {},
   "outputs": [
    {
     "data": {
      "image/png": "[encoded data removed]",
      "text/plain": [
       "<Figure size 720x360 with 2 Axes>"
      ]
     },
     "metadata": {
      "needs_background": "light"
     },
     "output_type": "display_data"
    }
   ],
   "source": [
    "#get the training and validation accuracy\n",
    "train_acc = history1.history['accuracy']\n",
    "valid_acc = history1.history['val_accuracy']\n",
    "\n",
    "#get the loss\n",
    "train_loss = history1.history['loss']\n",
    "valid_loss = history1.history['val_loss']\n",
    "\n",
    "#get the entries\n",
    "xvalues = np.arange(len(train_acc))\n",
    "\n",
    "#visualise\n",
    "f, ax = plt.subplots(1,2, figsize = (10,5))\n",
    "ax[0].plot(xvalues, train_loss)\n",
    "ax[0].plot(xvalues, valid_loss)\n",
    "ax[0].set_title(\"Loss curve\")\n",
    "ax[0].set_xlabel(\"Epoch\")\n",
    "ax[0].set_ylabel(\"loss\")\n",
    "ax[0].legend(['train', 'validation'])\n",
    "\n",
    "ax[1].plot(xvalues, train_acc)\n",
    "ax[1].plot(xvalues, valid_acc)\n",
    "ax[1].set_title(\"Accuracy\")\n",
    "ax[1].set_xlabel(\"Epoch\")\n",
    "ax[1].set_ylabel(\"accuracy\")\n",
    "ax[1].legend(['train', 'validation'])\n",
    "\n",
    "plt.show()"
   ]
  },
  {
   "cell_type": "code",
   "execution_count": 23,
   "metadata": {},
   "outputs": [
    {
     "name": "stdout",
     "output_type": "stream",
     "text": [
      "Final validation accuracy: 75.78%\n"
     ]
    }
   ],
   "source": [
    "valid_loss, valid_acc = model.evaluate_generator(valid_data_gen, steps=nb_valid_steps)\n",
    "print(f\"Final validation accuracy: {valid_acc*100:.2f}%\")"
   ]
  },
  {
   "cell_type": "code",
   "execution_count": null,
   "metadata": {},
   "outputs": [],
   "source": []
  }
 ],
 "metadata": {
  "kernelspec": {
   "display_name": "pdib",
   "language": "python",
   "name": "pdib"
  },
  "language_info": {
   "codemirror_mode": {
    "name": "ipython",
    "version": 3
   },
   "file_extension": ".py",
   "mimetype": "text/x-python",
   "name": "python",
   "nbconvert_exporter": "python",
   "pygments_lexer": "ipython3",
   "version": "3.7.7"
  }
 },
 "nbformat": 4,
 "nbformat_minor": 2
}
