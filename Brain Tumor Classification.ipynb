{
 "cells": [
  {
   "cell_type": "code",
   "execution_count": 1,
   "metadata": {},
   "outputs": [
    {
     "name": "stderr",
     "output_type": "stream",
     "text": [
      "Using TensorFlow backend.\n"
     ]
    }
   ],
   "source": [
    "import keras\n",
    "from keras.models import Sequential\n",
    "from keras.layers import Dense, Dropout, Flatten\n",
    "from keras.layers import Conv2D, MaxPooling2D, Conv3D, BatchNormalization, Activation\n",
    "from keras import backend as K\n",
    "import os\n",
    "from PIL import Image\n",
    "import numpy as np\n",
    "from sklearn.model_selection import train_test_split\n",
    "from sklearn.preprocessing import OneHotEncoder\n",
    "import matplotlib.pyplot as plt\n",
    "from matplotlib.pyplot import imshow\n",
    "import pandas as pd"
   ]
  },
  {
   "cell_type": "code",
   "execution_count": 2,
   "metadata": {},
   "outputs": [],
   "source": [
    "classes = os.listdir('Training')"
   ]
  },
  {
   "cell_type": "code",
   "execution_count": 3,
   "metadata": {},
   "outputs": [],
   "source": [
    "enc = OneHotEncoder()\n",
    "enc.fit([[0], [1], [2], [3]]) \n",
    "def names(number):\n",
    "    if(number == 0):\n",
    "        return classes[0]\n",
    "    elif(number == 1):\n",
    "        return classes[1]\n",
    "    elif(number == 2):\n",
    "        return classes[2]\n",
    "    elif(number == 3):\n",
    "        return classes[3]"
   ]
  },
  {
   "cell_type": "code",
   "execution_count": null,
   "metadata": {},
   "outputs": [
    {
     "name": "stdout",
     "output_type": "stream",
     "text": [
      "glioma_tumor\n",
      "glioma_tumor\n",
      "meningioma_tumor\n",
      "meningioma_tumor\n"
     ]
    }
   ],
   "source": [
    "trainData = []\n",
    "trainLabel = []\n",
    "dim = (150, 150)\n",
    "trainPath = \"Training\"\n",
    "index = 0\n",
    "for dir in os.listdir(trainPath):\n",
    "    filePaths = []\n",
    "    subDir = os.path.join(trainPath, dir)\n",
    "    for file in os.listdir(subDir):\n",
    "        imgFullPath = os.path.join(subDir, file)\n",
    "        filePaths.append(imgFullPath)\n",
    "        img = Image.open(imgFullPath)\n",
    "        x = img.resize(dim)\n",
    "        x = np.array(x)\n",
    "        trainData.append(np.array(x))\n",
    "        trainLabel.append(enc.transform([[index]]).toarray())\n",
    "    print(names(index))\n",
    "    print(str(dir))\n",
    "    index += 1\n",
    "    \n",
    "trainData = np.array(trainData)\n",
    "trainLabel = np.array(trainLabel).reshape(2870, 4)\n",
    "print(trainData.shape)\n",
    "print(trainLabel.shape)"
   ]
  },
  {
   "cell_type": "code",
   "execution_count": 11,
   "metadata": {},
   "outputs": [
    {
     "name": "stdout",
     "output_type": "stream",
     "text": [
      "glioma_tumor\n",
      "glioma_tumor\n",
      "meningioma_tumor\n",
      "meningioma_tumor\n",
      "no_tumor\n",
      "no_tumor\n",
      "pituitary_tumor\n",
      "pituitary_tumor\n",
      "(394, 150, 150, 3)\n",
      "(394, 4)\n"
     ]
    }
   ],
   "source": [
    "testData = []\n",
    "testLabel = []\n",
    "dim = (150, 150)\n",
    "testPath = \"Testing\"\n",
    "index = 0\n",
    "for dir in os.listdir(testPath):\n",
    "    filePaths = []\n",
    "    subDir = os.path.join(testPath, dir)\n",
    "    for file in os.listdir(subDir):\n",
    "        imgFullPath = os.path.join(subDir, file)\n",
    "        filePaths.append(imgFullPath)\n",
    "        img = Image.open(imgFullPath)\n",
    "        x = img.resize(dim)\n",
    "        x = np.array(x)\n",
    "        testData.append(np.array(x))\n",
    "        testLabel.append(enc.transform([[index]]).toarray())\n",
    "    print(names(index))\n",
    "    print(str(dir))\n",
    "    index += 1\n",
    "testData = np.array(testData)\n",
    "testLabel = np.array(testLabel).reshape(394, 4)\n",
    "print(testData.shape)\n",
    "print(testLabel.shape)"
   ]
  },
  {
   "cell_type": "code",
   "execution_count": null,
   "metadata": {},
   "outputs": [],
   "source": [
    "trainData"
   ]
  },
  {
   "cell_type": "code",
   "execution_count": 12,
   "metadata": {},
   "outputs": [
    {
     "name": "stdout",
     "output_type": "stream",
     "text": [
      "Model: \"sequential_1\"\n",
      "_________________________________________________________________\n",
      "Layer (type)                 Output Shape              Param #   \n",
      "=================================================================\n",
      "conv2d_1 (Conv2D)            (None, 148, 148, 32)      896       \n",
      "_________________________________________________________________\n",
      "activation_1 (Activation)    (None, 148, 148, 32)      0         \n",
      "_________________________________________________________________\n",
      "max_pooling2d_1 (MaxPooling2 (None, 74, 74, 32)        0         \n",
      "_________________________________________________________________\n",
      "conv2d_2 (Conv2D)            (None, 72, 72, 32)        9248      \n",
      "_________________________________________________________________\n",
      "activation_2 (Activation)    (None, 72, 72, 32)        0         \n",
      "_________________________________________________________________\n",
      "max_pooling2d_2 (MaxPooling2 (None, 36, 36, 32)        0         \n",
      "_________________________________________________________________\n",
      "flatten_1 (Flatten)          (None, 41472)             0         \n",
      "_________________________________________________________________\n",
      "dense_1 (Dense)              (None, 32)                1327136   \n",
      "_________________________________________________________________\n",
      "activation_3 (Activation)    (None, 32)                0         \n",
      "_________________________________________________________________\n",
      "dropout_1 (Dropout)          (None, 32)                0         \n",
      "_________________________________________________________________\n",
      "dense_2 (Dense)              (None, 4)                 132       \n",
      "_________________________________________________________________\n",
      "activation_4 (Activation)    (None, 4)                 0         \n",
      "=================================================================\n",
      "Total params: 1,337,412\n",
      "Trainable params: 1,337,412\n",
      "Non-trainable params: 0\n",
      "_________________________________________________________________\n",
      "None\n"
     ]
    }
   ],
   "source": [
    "model = Sequential()\n",
    "\n",
    "model.add(Conv2D(32, (3, 3), input_shape=(150,150,3)))\n",
    "model.add(Activation('relu'))\n",
    "model.add(MaxPooling2D(pool_size=(2, 2)))\n",
    "model.add(Conv2D(32, (3, 3))) \n",
    "model.add(Activation('relu'))           \n",
    "model.add(MaxPooling2D(pool_size=(2, 2)))  \n",
    "model.add(Flatten())\n",
    "model.add(Dense(32))\n",
    "model.add(Activation('relu'))\n",
    "model.add(Dropout(0.25))\n",
    "model.add(Dense(4))\n",
    "model.add(Activation('softmax'))\n",
    "\n",
    "model.compile(loss = \"categorical_crossentropy\", optimizer='adam')\n",
    "print(model.summary())"
   ]
  },
  {
   "cell_type": "code",
   "execution_count": 13,
   "metadata": {},
   "outputs": [
    {
     "name": "stdout",
     "output_type": "stream",
     "text": [
      "Train on 2870 samples, validate on 394 samples\n",
      "Epoch 1/19\n",
      "2870/2870 [==============================] - 61s 21ms/step - loss: 8.4050 - val_loss: 1.7669\n",
      "Epoch 2/19\n",
      "2870/2870 [==============================] - 58s 20ms/step - loss: 0.5708 - val_loss: 1.6013\n",
      "Epoch 3/19\n",
      "2870/2870 [==============================] - 60s 21ms/step - loss: 0.3449 - val_loss: 2.2025\n",
      "Epoch 4/19\n",
      "2870/2870 [==============================] - 58s 20ms/step - loss: 0.2105 - val_loss: 3.6411\n",
      "Epoch 5/19\n",
      "2870/2870 [==============================] - 58s 20ms/step - loss: 0.1920 - val_loss: 4.2397\n",
      "Epoch 6/19\n",
      "2870/2870 [==============================] - 58s 20ms/step - loss: 0.1535 - val_loss: 5.5061\n",
      "Epoch 7/19\n",
      "2870/2870 [==============================] - 58s 20ms/step - loss: 0.1200 - val_loss: 4.7844\n",
      "Epoch 8/19\n",
      "2870/2870 [==============================] - 58s 20ms/step - loss: 0.1042 - val_loss: 6.3835\n",
      "Epoch 9/19\n",
      "2870/2870 [==============================] - 57s 20ms/step - loss: 0.0861 - val_loss: 5.8448\n",
      "Epoch 10/19\n",
      "2870/2870 [==============================] - 58s 20ms/step - loss: 0.1006 - val_loss: 6.2068\n",
      "Epoch 11/19\n",
      "2870/2870 [==============================] - 58s 20ms/step - loss: 0.0860 - val_loss: 7.9891\n",
      "Epoch 12/19\n",
      "2870/2870 [==============================] - 58s 20ms/step - loss: 0.0779 - val_loss: 6.3427\n",
      "Epoch 13/19\n",
      "2870/2870 [==============================] - 60s 21ms/step - loss: 0.0557 - val_loss: 7.1308\n",
      "Epoch 14/19\n",
      "2870/2870 [==============================] - 60s 21ms/step - loss: 0.0575 - val_loss: 9.1972\n",
      "Epoch 15/19\n",
      "2870/2870 [==============================] - 58s 20ms/step - loss: 0.0567 - val_loss: 7.3532\n",
      "Epoch 16/19\n",
      "2870/2870 [==============================] - 57s 20ms/step - loss: 0.0591 - val_loss: 5.5471\n",
      "Epoch 17/19\n",
      "2870/2870 [==============================] - 58s 20ms/step - loss: 0.0660 - val_loss: 9.3773\n",
      "Epoch 18/19\n",
      "2870/2870 [==============================] - 58s 20ms/step - loss: 0.0644 - val_loss: 8.7884\n",
      "Epoch 19/19\n",
      "2870/2870 [==============================] - 61s 21ms/step - loss: 0.0539 - val_loss: 6.3943\n"
     ]
    }
   ],
   "source": [
    "history = model.fit(trainData, trainLabel,batch_size = 32, epochs = 19, verbose=1,validation_data=(testData, testLabel))"
   ]
  },
  {
   "cell_type": "code",
   "execution_count": 14,
   "metadata": {},
   "outputs": [],
   "source": [
    "model.save(\"brain-tumor-model.h5\")"
   ]
  },
  {
   "cell_type": "code",
   "execution_count": 15,
   "metadata": {},
   "outputs": [
    {
     "data": {
      "image/png": "[encoded data removed]",
      "text/plain": [
       "<Figure size 432x288 with 1 Axes>"
      ]
     },
     "metadata": {
      "needs_background": "light"
     },
     "output_type": "display_data"
    }
   ],
   "source": [
    "plt.plot(history.history['loss'])\n",
    "plt.plot(history.history['val_loss'])\n",
    "plt.title('Model Loss')\n",
    "plt.ylabel('Loss')\n",
    "plt.xlabel('Epoch')\n",
    "plt.legend(['Test', 'Validation'], loc='upper right')\n",
    "plt.show()"
   ]
  },
  {
   "cell_type": "code",
   "execution_count": 62,
   "metadata": {},
   "outputs": [
    {
     "name": "stdout",
     "output_type": "stream",
     "text": [
      "1\n",
      "93.41655969619751% Confidence This Is meningioma_tumor\n",
      "2\n",
      "97.70320057868958% Confidence This Is no_tumor\n",
      "3\n",
      "99.91938471794128% Confidence This Is no_tumor\n",
      "4\n",
      "99.97100234031677% Confidence This Is meningioma_tumor\n",
      "5\n",
      "error\n",
      "6\n",
      "82.354074716568% Confidence This Is no_tumor\n",
      "7\n",
      "77.75080800056458% Confidence This Is meningioma_tumor\n",
      "8\n",
      "99.97685551643372% Confidence This Is meningioma_tumor\n",
      "9\n",
      "99.90561604499817% Confidence This Is no_tumor\n",
      "10\n",
      "error\n",
      "11\n",
      "65.38827419281006% Confidence This Is no_tumor\n",
      "12\n",
      "error\n",
      "13\n",
      "100.0% Confidence This Is meningioma_tumor\n",
      "14\n",
      "error\n",
      "15\n",
      "96.33665680885315% Confidence This Is no_tumor\n",
      "16\n",
      "99.92544054985046% Confidence This Is no_tumor\n",
      "17\n",
      "error\n",
      "18\n",
      "93.90403628349304% Confidence This Is meningioma_tumor\n",
      "19\n",
      "91.65197014808655% Confidence This Is no_tumor\n",
      "20\n",
      "74.61628317832947% Confidence This Is no_tumor\n",
      "21\n",
      "99.99480247497559% Confidence This Is no_tumor\n",
      "22\n",
      "75.48627257347107% Confidence This Is no_tumor\n",
      "23\n",
      "86.6783082485199% Confidence This Is no_tumor\n",
      "24\n",
      "error\n",
      "25\n",
      "68.27675104141235% Confidence This Is no_tumor\n",
      "26\n",
      "93.19237470626831% Confidence This Is no_tumor\n",
      "27\n",
      "53.40369939804077% Confidence This Is meningioma_tumor\n",
      "28\n",
      "99.99772310256958% Confidence This Is no_tumor\n",
      "29\n",
      "61.8261992931366% Confidence This Is meningioma_tumor\n",
      "30\n",
      "error\n",
      "31\n",
      "error\n",
      "32\n",
      "87.70998120307922% Confidence This Is no_tumor\n",
      "33\n",
      "99.69140291213989% Confidence This Is no_tumor\n",
      "34\n",
      "96.33665680885315% Confidence This Is no_tumor\n",
      "35\n",
      "99.97673630714417% Confidence This Is meningioma_tumor\n",
      "36\n",
      "67.4392580986023% Confidence This Is meningioma_tumor\n",
      "37\n",
      "error\n",
      "38\n",
      "error\n",
      "39\n",
      "error\n",
      "40\n",
      "99.99998807907104% Confidence This Is meningioma_tumor\n",
      "41\n",
      "error\n",
      "42\n",
      "99.22425746917725% Confidence This Is no_tumor\n",
      "43\n",
      "error\n",
      "44\n",
      "73.33954572677612% Confidence This Is no_tumor\n",
      "45\n",
      "98.84198904037476% Confidence This Is no_tumor\n",
      "46\n",
      "99.42148327827454% Confidence This Is no_tumor\n",
      "47\n",
      "61.872798204422% Confidence This Is no_tumor\n",
      "48\n",
      "error\n",
      "49\n",
      "99.39369559288025% Confidence This Is no_tumor\n",
      "50\n",
      "67.0166552066803% Confidence This Is no_tumor\n",
      "51\n",
      "65.49882888793945% Confidence This Is no_tumor\n",
      "52\n",
      "error\n",
      "53\n",
      "92.34097599983215% Confidence This Is no_tumor\n",
      "54\n",
      "error\n",
      "55\n",
      "92.4369215965271% Confidence This Is no_tumor\n",
      "56\n",
      "93.01859140396118% Confidence This Is meningioma_tumor\n",
      "57\n",
      "error\n",
      "58\n",
      "97.11391925811768% Confidence This Is no_tumor\n",
      "59\n",
      "93.21723580360413% Confidence This Is no_tumor\n",
      "60\n",
      "99.29205775260925% Confidence This Is no_tumor\n",
      "61\n",
      "93.3498740196228% Confidence This Is no_tumor\n",
      "62\n",
      "error\n",
      "63\n",
      "error\n",
      "64\n",
      "error\n",
      "65\n",
      "76.36395692825317% Confidence This Is meningioma_tumor\n",
      "66\n",
      "78.28938961029053% Confidence This Is glioma_tumor\n",
      "67\n",
      "84.97235178947449% Confidence This Is meningioma_tumor\n",
      "68\n",
      "error\n",
      "69\n",
      "68.27675104141235% Confidence This Is no_tumor\n",
      "70\n",
      "error\n",
      "71\n",
      "87.31839060783386% Confidence This Is no_tumor\n",
      "72\n",
      "error\n",
      "73\n",
      "58.90904664993286% Confidence This Is no_tumor\n",
      "74\n",
      "92.4369215965271% Confidence This Is no_tumor\n",
      "75\n",
      "99.80790615081787% Confidence This Is meningioma_tumor\n",
      "76\n",
      "67.73852109909058% Confidence This Is no_tumor\n",
      "77\n",
      "99.72978234291077% Confidence This Is no_tumor\n",
      "78\n",
      "97.11625576019287% Confidence This Is no_tumor\n",
      "79\n",
      "99.8428463935852% Confidence This Is no_tumor\n",
      "80\n",
      "error\n",
      "81\n",
      "91.97457432746887% Confidence This Is meningioma_tumor\n",
      "82\n",
      "92.12259650230408% Confidence This Is meningioma_tumor\n",
      "83\n",
      "error\n",
      "84\n",
      "error\n",
      "85\n",
      "98.89060258865356% Confidence This Is no_tumor\n",
      "86\n",
      "71.23128771781921% Confidence This Is no_tumor\n",
      "87\n",
      "error\n",
      "88\n",
      "error\n",
      "89\n",
      "99.87279772758484% Confidence This Is meningioma_tumor\n",
      "90\n",
      "99.99070167541504% Confidence This Is no_tumor\n",
      "91\n",
      "99.99295473098755% Confidence This Is no_tumor\n",
      "92\n",
      "76.06291174888611% Confidence This Is meningioma_tumor\n",
      "93\n",
      "error\n",
      "94\n",
      "error\n",
      "95\n",
      "97.5763201713562% Confidence This Is no_tumor\n",
      "96\n",
      "83.49878191947937% Confidence This Is no_tumor\n",
      "97\n",
      "94.87031698226929% Confidence This Is no_tumor\n",
      "98\n",
      "88.08093667030334% Confidence This Is no_tumor\n",
      "99\n",
      "82.63929486274719% Confidence This Is meningioma_tumor\n"
     ]
    },
    {
     "data": {
      "image/png": "[encoded data removed]",
      "text/plain": [
       "<Figure size 432x288 with 1 Axes>"
      ]
     },
     "metadata": {
      "needs_background": "light"
     },
     "output_type": "display_data"
    }
   ],
   "source": [
    "for i in range(1,100):\n",
    "    print(i)\n",
    "    try:\n",
    "        strx = 'Testing/yes/Y'+ str(i) +'.jpg'\n",
    "        img = Image.open(strx)\n",
    "        x = np.array(img.resize(dim))\n",
    "        x = x.reshape(1,150,150,3)\n",
    "        answ = model.predict_on_batch(x)\n",
    "        classification = np.where(answ == np.amax(answ))[1][0]\n",
    "        imshow(img)\n",
    "        print(str(answ[0][classification]*100) + '% Confidence This Is ' + names(classification))\n",
    "    except:\n",
    "        print('error')"
   ]
  },
  {
   "cell_type": "code",
   "execution_count": 59,
   "metadata": {},
   "outputs": [
    {
     "ename": "TypeError",
     "evalue": "can only concatenate str (not \"int\") to str",
     "output_type": "error",
     "traceback": [
      "\u001b[1;31m---------------------------------------------------------------------------\u001b[0m",
      "\u001b[1;31mTypeError\u001b[0m                                 Traceback (most recent call last)",
      "\u001b[1;32m<ipython-input-59-6def2a181302>\u001b[0m in \u001b[0;36m<module>\u001b[1;34m\u001b[0m\n\u001b[1;32m----> 1\u001b[1;33m \u001b[0mstrx\u001b[0m \u001b[1;33m=\u001b[0m \u001b[1;34m'Testing/no/'\u001b[0m\u001b[1;33m+\u001b[0m \u001b[1;36m10\u001b[0m \u001b[1;33m+\u001b[0m\u001b[1;34m' no.jpg'\u001b[0m\u001b[1;33m\u001b[0m\u001b[1;33m\u001b[0m\u001b[0m\n\u001b[0m\u001b[0;32m      2\u001b[0m \u001b[0mimg\u001b[0m \u001b[1;33m=\u001b[0m \u001b[0mImage\u001b[0m\u001b[1;33m.\u001b[0m\u001b[0mopen\u001b[0m\u001b[1;33m(\u001b[0m\u001b[0mstrx\u001b[0m\u001b[1;33m)\u001b[0m\u001b[1;33m\u001b[0m\u001b[1;33m\u001b[0m\u001b[0m\n\u001b[0;32m      3\u001b[0m \u001b[0mx\u001b[0m \u001b[1;33m=\u001b[0m \u001b[0mnp\u001b[0m\u001b[1;33m.\u001b[0m\u001b[0marray\u001b[0m\u001b[1;33m(\u001b[0m\u001b[0mimg\u001b[0m\u001b[1;33m.\u001b[0m\u001b[0mresize\u001b[0m\u001b[1;33m(\u001b[0m\u001b[0mdim\u001b[0m\u001b[1;33m)\u001b[0m\u001b[1;33m)\u001b[0m\u001b[1;33m\u001b[0m\u001b[1;33m\u001b[0m\u001b[0m\n\u001b[0;32m      4\u001b[0m \u001b[0mx\u001b[0m \u001b[1;33m=\u001b[0m \u001b[0mx\u001b[0m\u001b[1;33m.\u001b[0m\u001b[0mreshape\u001b[0m\u001b[1;33m(\u001b[0m\u001b[1;36m1\u001b[0m\u001b[1;33m,\u001b[0m\u001b[1;36m150\u001b[0m\u001b[1;33m,\u001b[0m\u001b[1;36m150\u001b[0m\u001b[1;33m,\u001b[0m\u001b[1;36m3\u001b[0m\u001b[1;33m)\u001b[0m\u001b[1;33m\u001b[0m\u001b[1;33m\u001b[0m\u001b[0m\n\u001b[0;32m      5\u001b[0m \u001b[0mansw\u001b[0m \u001b[1;33m=\u001b[0m \u001b[0mmodel\u001b[0m\u001b[1;33m.\u001b[0m\u001b[0mpredict_on_batch\u001b[0m\u001b[1;33m(\u001b[0m\u001b[0mx\u001b[0m\u001b[1;33m)\u001b[0m\u001b[1;33m\u001b[0m\u001b[1;33m\u001b[0m\u001b[0m\n",
      "\u001b[1;31mTypeError\u001b[0m: can only concatenate str (not \"int\") to str"
     ]
    }
   ],
   "source": [
    "strx = 'Testing/no/'+ 10 +' no.jpg'\n",
    "img = Image.open(strx)\n",
    "x = np.array(img.resize(dim))\n",
    "x = x.reshape(1,150,150,3)\n",
    "answ = model.predict_on_batch(x)\n",
    "classification = np.where(answ == np.amax(answ))[1][0]\n",
    "imshow(img)\n",
    "print(str(answ[0][classification]*100) + '% Confidence This Is ' + names(classification))"
   ]
  },
  {
   "cell_type": "code",
   "execution_count": null,
   "metadata": {},
   "outputs": [],
   "source": [
    "y_hat = model.predict(x_test)\n",
    "\n",
    "# Plot a random sample of 10 test images, their predicted labels and ground truth\n",
    "figure = plt.figure(figsize=(20, 8))\n",
    "for i, index in enumerate(np.random.choice(x_test.shape[0], size=15, replace=False)):\n",
    "    ax = figure.add_subplot(3, 5, i + 1, xticks=[], yticks=[])\n",
    "    # Display each image\n",
    "    ax.imshow(np.squeeze(x_test[index]))\n",
    "    predict_index = np.argmax(y_hat[index])\n",
    "    true_index = np.argmax(y_test[index])\n",
    "    # Set the title for each image\n",
    "    ax.set_title(\"{} ({})\".format(labels[predict_index], \n",
    "                                  labels[true_index]),\n",
    "                                  color=(\"green\" if predict_index == true_index else \"red\"))\n",
    "plt.show()"
   ]
  },
  {
   "cell_type": "code",
   "execution_count": null,
   "metadata": {},
   "outputs": [],
   "source": []
  }
 ],
 "metadata": {
  "kernelspec": {
   "display_name": "pdib",
   "language": "python",
   "name": "pdib"
  },
  "language_info": {
   "codemirror_mode": {
    "name": "ipython",
    "version": 3
   },
   "file_extension": ".py",
   "mimetype": "text/x-python",
   "name": "python",
   "nbconvert_exporter": "python",
   "pygments_lexer": "ipython3",
   "version": "3.7.7"
  }
 },
 "nbformat": 4,
 "nbformat_minor": 2
}
